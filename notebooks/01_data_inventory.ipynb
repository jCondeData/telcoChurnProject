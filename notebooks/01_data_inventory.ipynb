{
 "cells": [
  {
   "cell_type": "code",
   "execution_count": null,
   "metadata": {},
   "outputs": [
    {
     "ename": "NameError",
     "evalue": "name 'raw_df' is not defined",
     "output_type": "error",
     "traceback": [
      "\u001b[31m---------------------------------------------------------------------------\u001b[39m",
      "\u001b[31mNameError\u001b[39m                                 Traceback (most recent call last)",
      "\u001b[36mCell\u001b[39m\u001b[36m \u001b[39m\u001b[32mIn[1]\u001b[39m\u001b[32m, line 3\u001b[39m\n\u001b[32m      1\u001b[39m \u001b[38;5;66;03m# Save a lightweight data profile for traceability\u001b[39;00m\n\u001b[32m      2\u001b[39m profile = {\n\u001b[32m----> \u001b[39m\u001b[32m3\u001b[39m     \u001b[33m\"\u001b[39m\u001b[33mshape\u001b[39m\u001b[33m\"\u001b[39m: \u001b[43mraw_df\u001b[49m.shape,\n\u001b[32m      4\u001b[39m     \u001b[33m\"\u001b[39m\u001b[33mcolumns\u001b[39m\u001b[33m\"\u001b[39m: \u001b[38;5;28mlist\u001b[39m(raw_df.columns),\n\u001b[32m      5\u001b[39m     \u001b[33m\"\u001b[39m\u001b[33mnull_counts\u001b[39m\u001b[33m\"\u001b[39m: raw_df.isnull().sum().to_dict(),\n\u001b[32m      6\u001b[39m     \u001b[33m\"\u001b[39m\u001b[33mdtypes\u001b[39m\u001b[33m\"\u001b[39m: {c: \u001b[38;5;28mstr\u001b[39m(t) \u001b[38;5;28;01mfor\u001b[39;00m c, t \u001b[38;5;129;01min\u001b[39;00m raw_df.dtypes.items()}\n\u001b[32m      7\u001b[39m }\n\u001b[32m      8\u001b[39m \u001b[38;5;28;01mimport\u001b[39;00m\u001b[38;5;250m \u001b[39m\u001b[34;01mjson\u001b[39;00m,\u001b[38;5;250m \u001b[39m\u001b[34;01mos\u001b[39;00m\n\u001b[32m      9\u001b[39m os.makedirs(\u001b[33m\"\u001b[39m\u001b[33m../data/processed\u001b[39m\u001b[33m\"\u001b[39m, exist_ok=\u001b[38;5;28;01mTrue\u001b[39;00m)\n",
      "\u001b[31mNameError\u001b[39m: name 'raw_df' is not defined"
     ]
    }
   ],
   "source": [
    "# Save a lightweight data profile for traceability\n",
    "profile = {\n",
    "    \"shape\": raw_df.shape,\n",
    "    \"columns\": list(raw_df.columns),\n",
    "    \"null_counts\": raw_df.isnull().sum().to_dict(),\n",
    "    \"dtypes\": {c: str(t) for c, t in raw_df.dtypes.items()}\n",
    "}\n",
    "import json, os\n",
    "os.makedirs(\"../data/processed\", exist_ok=True)\n",
    "with open(\"../data/processed/01_inventory_summary.json\", \"w\") as f:\n",
    "    json.dump(profile, f, indent=2)\n",
    "\n",
    "df.to_csv(\"../data/processed/telco_churn_clean.csv\", index=False)\n",
    "print(\"Wrote ../data/processed/telco_churn_clean.csv\")\n",
    "\n",
    "\n"
   ]
  }
 ],
 "metadata": {
  "kernelspec": {
   "display_name": "Python 3",
   "language": "python",
   "name": "python3"
  },
  "language_info": {
   "codemirror_mode": {
    "name": "ipython",
    "version": 3
   },
   "file_extension": ".py",
   "mimetype": "text/x-python",
   "name": "python",
   "nbconvert_exporter": "python",
   "pygments_lexer": "ipython3",
   "version": "3.11.9"
  }
 },
 "nbformat": 4,
 "nbformat_minor": 2
}
