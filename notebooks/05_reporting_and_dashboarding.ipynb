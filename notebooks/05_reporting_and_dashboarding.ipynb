{
 "cells": [
  {
   "cell_type": "code",
   "execution_count": 1,
   "id": "0e9d48cc",
   "metadata": {},
   "outputs": [
    {
     "name": "stdout",
     "output_type": "stream",
     "text": [
      "Wrote -> ../data/processed/telco_churn_scored.csv\n"
     ]
    }
   ],
   "source": [
    "import os, joblib, pandas as pd\n",
    "os.makedirs(\"../data/processed\", exist_ok=True)\n",
    "\n",
    "model = joblib.load(\"../models/telco_churn_rf.pkl\")\n",
    "df = pd.read_csv(\"../data/processed/telco_churn_clean.csv\")\n",
    "X = df.select_dtypes(include=[\"int64\",\"float64\",\"bool\"]).drop(columns=[\"Churn\"])\n",
    "df[\"Churn_Prob\"] = model.predict_proba(X)[:,1]\n",
    "\n",
    "# Rebuild 'Contract' for dashboard filtering if needed\n",
    "if \"Contract\" not in df.columns and \"Contract_One year\" in df.columns:\n",
    "    df[\"Contract\"] = \"Month-to-month\"\n",
    "    if df[\"Contract_One year\"].dtype == bool:\n",
    "        df.loc[df[\"Contract_One year\"], \"Contract\"] = \"One year\"\n",
    "        df.loc[df[\"Contract_Two year\"], \"Contract\"] = \"Two year\"\n",
    "    else:\n",
    "        df.loc[df[\"Contract_One year\"] == 1, \"Contract\"] = \"One year\"\n",
    "        df.loc[df[\"Contract_Two year\"] == 1, \"Contract\"] = \"Two year\"\n",
    "\n",
    "out_path = \"../data/processed/telco_churn_scored.csv\"\n",
    "df.to_csv(out_path, index=False)\n",
    "print(\"Wrote ->\", out_path)\n"
   ]
  },
  {
   "cell_type": "markdown",
   "id": "3c4a9ce7",
   "metadata": {},
   "source": [
    "### Streamlit (run from project root)\n",
    "```bash\n",
    "python -m streamlit run dashboard.py\n"
   ]
  },
  {
   "cell_type": "markdown",
   "id": "87bc639f",
   "metadata": {},
   "source": [
    "\n",
    "**Cell: 5.3 (Markdown for Power BI)**\n",
    "```markdown\n",
    "### Power BI Notes\n",
    "- Import `data/processed/telco_churn_scored.csv`\n",
    "- Visuals:\n",
    "  - KPI: Avg Churn_Prob\n",
    "  - Bar: Churn_Prob by Contract\n",
    "  - Slicers: Contract, tenure buckets, PaymentMethod\n",
    "- Add screenshots and link in README.\n"
   ]
  }
 ],
 "metadata": {
  "kernelspec": {
   "display_name": "Python 3",
   "language": "python",
   "name": "python3"
  },
  "language_info": {
   "codemirror_mode": {
    "name": "ipython",
    "version": 3
   },
   "file_extension": ".py",
   "mimetype": "text/x-python",
   "name": "python",
   "nbconvert_exporter": "python",
   "pygments_lexer": "ipython3",
   "version": "3.11.9"
  }
 },
 "nbformat": 4,
 "nbformat_minor": 5
}
